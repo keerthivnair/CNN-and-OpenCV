{
 "cells": [
  {
   "cell_type": "code",
   "execution_count": 2,
   "id": "6697e7a9-20ca-41c7-80ab-967459328af8",
   "metadata": {},
   "outputs": [],
   "source": [
    "import sys \n",
    "import time"
   ]
  },
  {
   "cell_type": "code",
   "execution_count": 7,
   "id": "7b14735c-8ac4-4f35-8a1f-b2a7d2c46256",
   "metadata": {},
   "outputs": [],
   "source": [
    "def get_time_in_hhmmss(start=None):\n",
    "    if start == None:\n",
    "        return time.strftime(\"%Y/%m/%d %H:%M:%S\")\n",
    "    end = time.time()\n",
    "    m,s= divmod(end-start,60)\n",
    "    h,m= divmod(end-start,60)\n",
    "    time_str = \"%02d:%02d:%02d\"%(h,m,s)\n",
    "    return time_str\n",
    "    "
   ]
  },
  {
   "cell_type": "code",
   "execution_count": 11,
   "id": "9d0fcbd8-c5a3-46cc-83ed-771426f69a9b",
   "metadata": {},
   "outputs": [],
   "source": [
    "def print_progress(iteration,total):\n",
    "    str_format = \"{0:.0f}\"\n",
    "    percents = str_format.format(100 * (iteration /  float(total)))\n",
    "    filled_length = int(round(100 * (iteration /  float(total))))\n",
    "    bar = '█' * filled_length + '-' * (100 - filled_length)\n",
    "    sys.stdout.write('\\r |%s| %s%%' % (bar, percents))\n",
    "    sys.stdout.flush()\n",
    "    if iteration == total:\n",
    "        sys.stdout.write('\\n')\n",
    "        "
   ]
  },
  {
   "cell_type": "code",
   "execution_count": 16,
   "id": "c806e1ca-08bd-4f06-8a75-f5f1831a8dce",
   "metadata": {},
   "outputs": [
    {
     "name": "stdout",
     "output_type": "stream",
     "text": [
      "Started at : 2025/06/25 09:01:14\n",
      " |████████████████████████████████████████████████████████████████████████████████████████████████████| 100%\n",
      "Finished at: 2025/06/25 09:01:19\n",
      "Elapsed Time: 00:05:05\n"
     ]
    }
   ],
   "source": [
    "total = 50\n",
    "print(\"Started at :\",get_time_in_hhmmss())\n",
    "start = time.time()\n",
    "for i in range(51):\n",
    "        print_progress(i, total)\n",
    "        time.sleep(0.10)\n",
    "print(\"Finished at:\", get_time_in_hhmmss())\n",
    "print(\"Elapsed Time:\", get_time_in_hhmmss(start))   "
   ]
  },
  {
   "cell_type": "code",
   "execution_count": null,
   "id": "aeab0331-2126-4d74-8d68-310e5a0b69aa",
   "metadata": {},
   "outputs": [],
   "source": []
  }
 ],
 "metadata": {
  "kernelspec": {
   "display_name": "Python 3 (ipykernel)",
   "language": "python",
   "name": "python3"
  },
  "language_info": {
   "codemirror_mode": {
    "name": "ipython",
    "version": 3
   },
   "file_extension": ".py",
   "mimetype": "text/x-python",
   "name": "python",
   "nbconvert_exporter": "python",
   "pygments_lexer": "ipython3",
   "version": "3.12.4"
  }
 },
 "nbformat": 4,
 "nbformat_minor": 5
}
